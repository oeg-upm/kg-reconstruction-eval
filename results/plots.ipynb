{
 "cells": [
  {
   "cell_type": "markdown",
   "id": "85e3854f",
   "metadata": {},
   "source": [
    "# Figures"
   ]
  },
  {
   "cell_type": "code",
   "execution_count": 3,
   "id": "89b39afa",
   "metadata": {},
   "outputs": [],
   "source": [
    "import matplotlib.pyplot as plt\n",
    "import numpy as np\n",
    "import pandas as pd\n",
    "import math"
   ]
  },
  {
   "cell_type": "code",
   "execution_count": 10,
   "id": "51a5b727",
   "metadata": {},
   "outputs": [],
   "source": [
    "def organize_data(data, technique, mappingsEG_TS):\n",
    "    ordered_data = pd.DataFrame(index=mappingsEG_TS)\n",
    "    ordered_data = data[1:]\n",
    "    ordered_data.columns = technique\n",
    "    ordered_data.replace(np.nan, 0)\n",
    "    \n",
    "    for i in range(0, len(ordered_data.index)):\n",
    "        for j in range(0, len(ordered_data.columns)):\n",
    "            new_data = float(ordered_data.iloc[i][j])\n",
    "            ordered_data.iloc[i][j]=np.log10(new_data)\n",
    "\n",
    "    return ordered_data\n"
   ]
  },
  {
   "cell_type": "markdown",
   "id": "50b5a695",
   "metadata": {},
   "source": [
    "## Plots for KGC systems and triplestores"
   ]
  },
  {
   "cell_type": "code",
   "execution_count": 26,
   "id": "c2aeac70",
   "metadata": {},
   "outputs": [
    {
     "name": "stdout",
     "output_type": "stream",
     "text": [
      "1K \n",
      "                 std. reif.  rdf-star named graphs n-ary rel.\n",
      "Oxigraph         -0.136677  -0.30103          NaN   0.056905\n",
      "Fuseki           -0.508638 -0.920819    -0.522879  -0.275724\n",
      "GraphDB          -0.585027 -0.886057          NaN  -0.619789\n",
      "Morph-KGC         0.152288  0.071882     0.053078   0.089905\n",
      "SPARQL-Anything   0.158362  0.130334     0.143015   0.136721 \n",
      "\n",
      "10K \n",
      "                 std. reif.  rdf-star named graphs n-ary rel.\n",
      "Oxigraph          1.059185  0.577492          NaN    1.80618\n",
      "Fuseki            0.704151 -0.154902     0.671173   1.431203\n",
      "GraphDB           0.383815 -0.017729          NaN   0.742725\n",
      "Morph-KGC         0.365488  0.240549     0.190332   0.243038\n",
      "SPARQL-Anything   0.559907  0.485721     0.556303   0.545307 \n",
      "\n",
      "100K \n",
      "                 std. reif.  rdf-star named graphs n-ary rel.\n",
      "Oxigraph           2.33644  1.582518          NaN   3.802958\n",
      "Fuseki            2.744661  0.898176     2.026043   2.817129\n",
      "GraphDB           1.487563  0.963788          NaN   2.477888\n",
      "Morph-KGC         1.089552  0.909556     0.798651   0.906874\n",
      "SPARQL-Anything    1.34557  1.304706     1.340642    1.36903 \n",
      "\n",
      "1M \n",
      "                 std. reif.  rdf-star named graphs n-ary rel.\n",
      "Oxigraph          3.354992  2.689966          NaN   4.635484\n",
      "Fuseki            2.969705   2.11886     2.967426   4.635484\n",
      "GraphDB           2.614918  1.959757          NaN   4.106669\n",
      "Morph-KGC         2.085826  1.894759     1.762378   1.885474\n",
      "SPARQL-Anything   2.370347    2.2445     2.331913   2.377962 \n",
      "\n"
     ]
    }
   ],
   "source": [
    "scales = ['1K','10K', '100K', '1M']\n",
    "technique = ['Std. Reif.', 'RDF-star', 'Named Graphs', 'N-Ary Rel.']\n",
    "mappingsEG_TS = ['Oxigraph', 'Fuseki', 'GraphDB', 'Morph-KGC', 'SPARQL-Anything']\n",
    "\n",
    "data_list = {}\n",
    "\n",
    "for scale in scales:\n",
    "    file = pd.read_csv(\"data/mq-\" + scale + \".csv\")\n",
    "    file = np.transpose(file)\n",
    "    data_list[scale] = organize_data(file, [x.lower() for x in technique], mappingsEG_TS)\n",
    "    print(scale, '\\n', data_list[scale], '\\n')"
   ]
  },
  {
   "cell_type": "code",
   "execution_count": 27,
   "id": "b2a187cf",
   "metadata": {},
   "outputs": [
    {
     "name": "stdout",
     "output_type": "stream",
     "text": [
      "Finished: 'figures/time_1K'\n",
      "Finished: 'figures/time_10K'\n",
      "Finished: 'figures/time_100K'\n",
      "Finished: 'figures/time_1M'\n"
     ]
    },
    {
     "data": {
      "text/plain": [
       "<Figure size 640x480 with 0 Axes>"
      ]
     },
     "metadata": {},
     "output_type": "display_data"
    }
   ],
   "source": [
    "plt.style.use('seaborn-whitegrid')\n",
    "\n",
    "for scale in data_list:\n",
    "    barWidth = 0.11\n",
    "    r1 = np.arange(len(data_list[scale].columns))\n",
    "    r2 = [x + barWidth for x in r1]\n",
    "    r3 = [x + barWidth * 2 for x in r1]\n",
    "    r4 = [x + barWidth * 3 for x in r1]\n",
    "    r5 = [x + barWidth * 4 for x in r1]\n",
    "\n",
    "    plt.bar(r1, data_list[scale].values.tolist()[0], width=barWidth, color='#FC9F5B',  # F2BABA\n",
    "            label='Oxigraph', edgecolor = \"gray\")\n",
    "    plt.bar(r2, data_list[scale].values.tolist()[1], width=barWidth, color='#FBD1A2',  # A46593\n",
    "            label='Fuseki', edgecolor = \"gray\")\n",
    "    plt.bar(r3, data_list[scale].values.tolist()[2], width=barWidth, color='#ECE4B7',  # B1ACAA\n",
    "            label='GraphDB', edgecolor = \"gray\")\n",
    "    plt.bar(r4, data_list[scale].values.tolist()[3], width=barWidth, color='#7DCFB6',  # B1ACAA\n",
    "            label='Morph-KGC', edgecolor = \"gray\")\n",
    "    plt.bar(r5, data_list[scale].values.tolist()[4], width=barWidth, color='#33CA7F',  # 2862CC\n",
    "            label='SPARQL-Anything', edgecolor = \"gray\")\n",
    "\n",
    "\n",
    "    plt.xticks([r + barWidth * 1.5 for r in range(len(r1))], map(lambda each: each.strip(\"\"), technique),\n",
    "               fontsize=12)\n",
    "    plt.yticks(np.arange(0, 6), ('0', '1', '2', '3', '4', 'TO'), fontsize=14)\n",
    "    plt.ylim(top=5,bottom=-1)\n",
    "    plt.ylabel(\"Time (log$_{10}$(s))\", fontsize=15)\n",
    "    plt.title(scale, fontsize=20)\n",
    "    plt.legend(mappingsEG_TS, loc='lower center', ncol=6, bbox_to_anchor=[0.5, -0.26], fontsize=13)\n",
    "    plt.grid(axis='x')\n",
    "\n",
    "    plt.savefig(\"./figures/time_\" + scale.lower() + \".png\", bbox_inches='tight', dpi=700)\n",
    "\n",
    "    plt.clf()\n",
    "    \n",
    "    print(\"Finished: 'figures/time_\" + scale + \"'\")"
   ]
  },
  {
   "cell_type": "markdown",
   "id": "aed8ebc0",
   "metadata": {},
   "source": [
    "## Plots for details on queries in triplestores"
   ]
  },
  {
   "cell_type": "code",
   "execution_count": 48,
   "id": "363497d2",
   "metadata": {},
   "outputs": [
    {
     "name": "stdout",
     "output_type": "stream",
     "text": [
      "1K \n",
      "                 q1        q2        q3        q4        q5        q6  \\\n",
      "Oxigraph -0.274905 -0.308919       NaN -0.199283  0.047664       NaN   \n",
      "Fuseki   -0.853872 -1.004365 -0.876148 -0.876148 -0.477556 -0.886057   \n",
      "GraphDB  -0.632644 -0.882729       NaN -0.882729 -0.560667       NaN   \n",
      "\n",
      "                q7        q8        q9       q10       q11       q12  \n",
      "Oxigraph -0.238824 -0.317855       NaN -0.321482  -0.38405  -0.06148  \n",
      "Fuseki   -0.823909 -0.737549 -0.931814 -0.906578 -0.917215 -0.636388  \n",
      "GraphDB  -0.534617 -0.694649       NaN -0.598599 -0.847712 -0.595166   \n",
      "\n",
      "10K \n",
      "                 q1        q2        q3        q4        q5        q6  \\\n",
      "Oxigraph  0.620344  0.566673       NaN  0.711301  1.742136       NaN   \n",
      "Fuseki    -0.03105 -0.181115 -0.002177 -0.120331  1.174525 -0.137272   \n",
      "GraphDB   0.302547  -0.03292       NaN -0.025028  0.963126       NaN   \n",
      "\n",
      "                q7        q8        q9       q10       q11       q12  \n",
      "Oxigraph  0.628389  0.498448       NaN   0.58872  0.454997  1.716162  \n",
      "Fuseki   -0.003488  0.000868 -0.093665 -0.004365 -0.161151  0.968996  \n",
      "GraphDB   0.531479  0.376029       NaN   0.31973  0.004751  0.889246   \n",
      "\n",
      "100K \n",
      "                 q1        q2        q3        q4        q5        q6  \\\n",
      "Oxigraph  1.642781  1.594879       NaN  1.683947       NaN       NaN   \n",
      "Fuseki    1.091561  0.868762  0.974235  0.918345  3.148766  0.888236   \n",
      "GraphDB   1.308906  0.955255       NaN  0.951775   2.92639       NaN   \n",
      "\n",
      "                q7        q8        q9       q10       q11       q12  \n",
      "Oxigraph  1.596597  1.458759       NaN  1.558228  1.468643       NaN  \n",
      "Fuseki    1.039533   1.04708  0.929419  1.083072  0.908163  2.949539  \n",
      "GraphDB   1.807386  1.676968       NaN  1.346549  0.983852  2.830287   \n",
      "\n",
      "1M \n",
      "                 q1        q2        q3        q4   q5       q6        q7  \\\n",
      "Oxigraph  2.782481  2.727531       NaN  2.793882  NaN      NaN  2.589086   \n",
      "Fuseki     2.26766  1.999296  2.112675  2.061189  5.0  2.15412  2.376119   \n",
      "GraphDB    2.33546  1.963202       NaN  1.932971  5.0      NaN  3.152209   \n",
      "\n",
      "                q8        q9       q10       q11  q12  \n",
      "Oxigraph  2.456125       NaN  2.647011  2.548475  NaN  \n",
      "Fuseki    2.349594  2.334753  2.005969  2.296099  5.0  \n",
      "GraphDB    3.04904       NaN  2.357088  1.983134  5.0   \n",
      "\n"
     ]
    }
   ],
   "source": [
    "scales = ['1K','10K', '100K', '1M']\n",
    "query = ['Q1', 'Q2', 'Q3', 'Q4', 'Q5', 'Q6', 'Q7', 'Q8', 'Q9', 'Q10', 'Q11', 'Q12']\n",
    "mappingsEG_TS = ['Oxigraph', 'Fuseki', 'GraphDB']\n",
    "\n",
    "data_list = {}\n",
    "\n",
    "for scale in scales:\n",
    "    file = pd.read_csv(\"data/q-\" + scale + \".csv\", sep='\\t')\n",
    "    file = np.transpose(file)\n",
    "    data_list[scale] = organize_data(file, [x.lower() for x in query], mappingsEG_TS)\n",
    "    print(scale, '\\n', data_list[scale], '\\n')"
   ]
  },
  {
   "cell_type": "code",
   "execution_count": 49,
   "id": "e7ba0fe3",
   "metadata": {},
   "outputs": [
    {
     "name": "stdout",
     "output_type": "stream",
     "text": [
      "Finished: 'figures/time_queries_1K'\n",
      "Finished: 'figures/time_queries_10K'\n",
      "Finished: 'figures/time_queries_100K'\n",
      "Finished: 'figures/time_queries_1M'\n"
     ]
    },
    {
     "data": {
      "text/plain": [
       "<Figure size 640x480 with 0 Axes>"
      ]
     },
     "metadata": {},
     "output_type": "display_data"
    }
   ],
   "source": [
    "plt.style.use('seaborn-whitegrid')\n",
    "\n",
    "for scale in data_list:\n",
    "    barWidth = 0.23\n",
    "    r1 = np.arange(len(data_list[scale].columns))\n",
    "    r2 = [x + barWidth for x in r1]\n",
    "    r3 = [x + barWidth * 2 for x in r1]\n",
    "\n",
    "    plt.bar(r1, data_list[scale].values.tolist()[0], width=barWidth, color='#FC9F5B',  # F2BABA\n",
    "            label='Oxigraph', edgecolor = \"gray\")\n",
    "    plt.bar(r2, data_list[scale].values.tolist()[1], width=barWidth, color='#FBD1A2',  # A46593\n",
    "            label='Fuseki', edgecolor = \"gray\")\n",
    "    plt.bar(r3, data_list[scale].values.tolist()[2], width=barWidth, color='#ECE4B7',  # B1ACAA\n",
    "            label='GraphDB', edgecolor = \"gray\")\n",
    "\n",
    "\n",
    "    plt.xticks([r + barWidth * 1.5 for r in range(len(r1))], map(lambda each: each.strip(\"\"), technique),\n",
    "               fontsize=10)\n",
    "    plt.yticks(np.arange(0, 6), ('0', '1', '2', '3', '4', 'TO'), fontsize=14)\n",
    "    plt.ylim(top=5,bottom=-1)\n",
    "    plt.ylabel(\"Time (log$_{10}$(s))\", fontsize=15)\n",
    "    plt.title(scale, fontsize=20)\n",
    "    plt.legend(mappingsEG_TS, loc='lower center', ncol=6, bbox_to_anchor=[0.5, -0.26], fontsize=13)\n",
    "    plt.grid(axis='x')\n",
    "\n",
    "    #plt.show()\n",
    "    plt.savefig(\"./figures/time_queries_\" + scale.lower() + \".png\", bbox_inches='tight', dpi=700)\n",
    "\n",
    "    plt.clf()\n",
    "    \n",
    "    print(\"Finished: 'figures/time_queries_\" + scale + \"'\")"
   ]
  },
  {
   "cell_type": "code",
   "execution_count": null,
   "id": "4717afc0",
   "metadata": {},
   "outputs": [],
   "source": []
  }
 ],
 "metadata": {
  "kernelspec": {
   "display_name": "Python 3 (ipykernel)",
   "language": "python",
   "name": "python3"
  },
  "language_info": {
   "codemirror_mode": {
    "name": "ipython",
    "version": 3
   },
   "file_extension": ".py",
   "mimetype": "text/x-python",
   "name": "python",
   "nbconvert_exporter": "python",
   "pygments_lexer": "ipython3",
   "version": "3.9.16"
  }
 },
 "nbformat": 4,
 "nbformat_minor": 5
}
